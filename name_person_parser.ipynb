{
  "nbformat": 4,
  "nbformat_minor": 0,
  "metadata": {
    "accelerator": "GPU",
    "colab": {
      "provenance": [],
      "include_colab_link": true
    },
    "kernelspec": {
      "display_name": "Python 3",
      "language": "python",
      "name": "python3"
    },
    "language_info": {
      "codemirror_mode": {
        "name": "ipython",
        "version": 3
      },
      "file_extension": ".py",
      "mimetype": "text/x-python",
      "name": "python",
      "nbconvert_exporter": "python",
      "pygments_lexer": "ipython3",
      "version": "3.6.4"
    },
    "widgets": {
      "application/vnd.jupyter.widget-state+json": {
        "0999bb2613384b499111d0a4851b62e9": {
          "model_module": "@jupyter-widgets/controls",
          "model_name": "HBoxModel",
          "model_module_version": "1.5.0",
          "state": {
            "_dom_classes": [],
            "_model_module": "@jupyter-widgets/controls",
            "_model_module_version": "1.5.0",
            "_model_name": "HBoxModel",
            "_view_count": null,
            "_view_module": "@jupyter-widgets/controls",
            "_view_module_version": "1.5.0",
            "_view_name": "HBoxView",
            "box_style": "",
            "children": [
              "IPY_MODEL_8a567d5d14a144b2afb9bb5234ab12dc",
              "IPY_MODEL_d11a78aa7d8a4d318e65723ec6e47e1c",
              "IPY_MODEL_4223fc4c1054431ba49e4d523326b77e"
            ],
            "layout": "IPY_MODEL_3211960c0fe5428099aa9bb7d2731279"
          }
        },
        "8a567d5d14a144b2afb9bb5234ab12dc": {
          "model_module": "@jupyter-widgets/controls",
          "model_name": "HTMLModel",
          "model_module_version": "1.5.0",
          "state": {
            "_dom_classes": [],
            "_model_module": "@jupyter-widgets/controls",
            "_model_module_version": "1.5.0",
            "_model_name": "HTMLModel",
            "_view_count": null,
            "_view_module": "@jupyter-widgets/controls",
            "_view_module_version": "1.5.0",
            "_view_name": "HTMLView",
            "description": "",
            "description_tooltip": null,
            "layout": "IPY_MODEL_49528b2ff24d40c6b25033062aa8e990",
            "placeholder": "​",
            "style": "IPY_MODEL_5368cf39c77f4b0ebd157b0f9e6a9f12",
            "value": "Downloading: 100%"
          }
        },
        "d11a78aa7d8a4d318e65723ec6e47e1c": {
          "model_module": "@jupyter-widgets/controls",
          "model_name": "FloatProgressModel",
          "model_module_version": "1.5.0",
          "state": {
            "_dom_classes": [],
            "_model_module": "@jupyter-widgets/controls",
            "_model_module_version": "1.5.0",
            "_model_name": "FloatProgressModel",
            "_view_count": null,
            "_view_module": "@jupyter-widgets/controls",
            "_view_module_version": "1.5.0",
            "_view_name": "ProgressView",
            "bar_style": "success",
            "description": "",
            "description_tooltip": null,
            "layout": "IPY_MODEL_1f126af0e23044e48a1026257da6f7c1",
            "max": 231508,
            "min": 0,
            "orientation": "horizontal",
            "style": "IPY_MODEL_65f1d52ed93e465ab0ae5dbe98d8395e",
            "value": 231508
          }
        },
        "4223fc4c1054431ba49e4d523326b77e": {
          "model_module": "@jupyter-widgets/controls",
          "model_name": "HTMLModel",
          "model_module_version": "1.5.0",
          "state": {
            "_dom_classes": [],
            "_model_module": "@jupyter-widgets/controls",
            "_model_module_version": "1.5.0",
            "_model_name": "HTMLModel",
            "_view_count": null,
            "_view_module": "@jupyter-widgets/controls",
            "_view_module_version": "1.5.0",
            "_view_name": "HTMLView",
            "description": "",
            "description_tooltip": null,
            "layout": "IPY_MODEL_e2c28e12cdcd4085b064405aab29f9af",
            "placeholder": "​",
            "style": "IPY_MODEL_a6eb3d693a094ed388546e5def8086fc",
            "value": " 226k/226k [00:00&lt;00:00, 275kB/s]"
          }
        },
        "3211960c0fe5428099aa9bb7d2731279": {
          "model_module": "@jupyter-widgets/base",
          "model_name": "LayoutModel",
          "model_module_version": "1.2.0",
          "state": {
            "_model_module": "@jupyter-widgets/base",
            "_model_module_version": "1.2.0",
            "_model_name": "LayoutModel",
            "_view_count": null,
            "_view_module": "@jupyter-widgets/base",
            "_view_module_version": "1.2.0",
            "_view_name": "LayoutView",
            "align_content": null,
            "align_items": null,
            "align_self": null,
            "border": null,
            "bottom": null,
            "display": null,
            "flex": null,
            "flex_flow": null,
            "grid_area": null,
            "grid_auto_columns": null,
            "grid_auto_flow": null,
            "grid_auto_rows": null,
            "grid_column": null,
            "grid_gap": null,
            "grid_row": null,
            "grid_template_areas": null,
            "grid_template_columns": null,
            "grid_template_rows": null,
            "height": null,
            "justify_content": null,
            "justify_items": null,
            "left": null,
            "margin": null,
            "max_height": null,
            "max_width": null,
            "min_height": null,
            "min_width": null,
            "object_fit": null,
            "object_position": null,
            "order": null,
            "overflow": null,
            "overflow_x": null,
            "overflow_y": null,
            "padding": null,
            "right": null,
            "top": null,
            "visibility": null,
            "width": null
          }
        },
        "49528b2ff24d40c6b25033062aa8e990": {
          "model_module": "@jupyter-widgets/base",
          "model_name": "LayoutModel",
          "model_module_version": "1.2.0",
          "state": {
            "_model_module": "@jupyter-widgets/base",
            "_model_module_version": "1.2.0",
            "_model_name": "LayoutModel",
            "_view_count": null,
            "_view_module": "@jupyter-widgets/base",
            "_view_module_version": "1.2.0",
            "_view_name": "LayoutView",
            "align_content": null,
            "align_items": null,
            "align_self": null,
            "border": null,
            "bottom": null,
            "display": null,
            "flex": null,
            "flex_flow": null,
            "grid_area": null,
            "grid_auto_columns": null,
            "grid_auto_flow": null,
            "grid_auto_rows": null,
            "grid_column": null,
            "grid_gap": null,
            "grid_row": null,
            "grid_template_areas": null,
            "grid_template_columns": null,
            "grid_template_rows": null,
            "height": null,
            "justify_content": null,
            "justify_items": null,
            "left": null,
            "margin": null,
            "max_height": null,
            "max_width": null,
            "min_height": null,
            "min_width": null,
            "object_fit": null,
            "object_position": null,
            "order": null,
            "overflow": null,
            "overflow_x": null,
            "overflow_y": null,
            "padding": null,
            "right": null,
            "top": null,
            "visibility": null,
            "width": null
          }
        },
        "5368cf39c77f4b0ebd157b0f9e6a9f12": {
          "model_module": "@jupyter-widgets/controls",
          "model_name": "DescriptionStyleModel",
          "model_module_version": "1.5.0",
          "state": {
            "_model_module": "@jupyter-widgets/controls",
            "_model_module_version": "1.5.0",
            "_model_name": "DescriptionStyleModel",
            "_view_count": null,
            "_view_module": "@jupyter-widgets/base",
            "_view_module_version": "1.2.0",
            "_view_name": "StyleView",
            "description_width": ""
          }
        },
        "1f126af0e23044e48a1026257da6f7c1": {
          "model_module": "@jupyter-widgets/base",
          "model_name": "LayoutModel",
          "model_module_version": "1.2.0",
          "state": {
            "_model_module": "@jupyter-widgets/base",
            "_model_module_version": "1.2.0",
            "_model_name": "LayoutModel",
            "_view_count": null,
            "_view_module": "@jupyter-widgets/base",
            "_view_module_version": "1.2.0",
            "_view_name": "LayoutView",
            "align_content": null,
            "align_items": null,
            "align_self": null,
            "border": null,
            "bottom": null,
            "display": null,
            "flex": null,
            "flex_flow": null,
            "grid_area": null,
            "grid_auto_columns": null,
            "grid_auto_flow": null,
            "grid_auto_rows": null,
            "grid_column": null,
            "grid_gap": null,
            "grid_row": null,
            "grid_template_areas": null,
            "grid_template_columns": null,
            "grid_template_rows": null,
            "height": null,
            "justify_content": null,
            "justify_items": null,
            "left": null,
            "margin": null,
            "max_height": null,
            "max_width": null,
            "min_height": null,
            "min_width": null,
            "object_fit": null,
            "object_position": null,
            "order": null,
            "overflow": null,
            "overflow_x": null,
            "overflow_y": null,
            "padding": null,
            "right": null,
            "top": null,
            "visibility": null,
            "width": null
          }
        },
        "65f1d52ed93e465ab0ae5dbe98d8395e": {
          "model_module": "@jupyter-widgets/controls",
          "model_name": "ProgressStyleModel",
          "model_module_version": "1.5.0",
          "state": {
            "_model_module": "@jupyter-widgets/controls",
            "_model_module_version": "1.5.0",
            "_model_name": "ProgressStyleModel",
            "_view_count": null,
            "_view_module": "@jupyter-widgets/base",
            "_view_module_version": "1.2.0",
            "_view_name": "StyleView",
            "bar_color": null,
            "description_width": ""
          }
        },
        "e2c28e12cdcd4085b064405aab29f9af": {
          "model_module": "@jupyter-widgets/base",
          "model_name": "LayoutModel",
          "model_module_version": "1.2.0",
          "state": {
            "_model_module": "@jupyter-widgets/base",
            "_model_module_version": "1.2.0",
            "_model_name": "LayoutModel",
            "_view_count": null,
            "_view_module": "@jupyter-widgets/base",
            "_view_module_version": "1.2.0",
            "_view_name": "LayoutView",
            "align_content": null,
            "align_items": null,
            "align_self": null,
            "border": null,
            "bottom": null,
            "display": null,
            "flex": null,
            "flex_flow": null,
            "grid_area": null,
            "grid_auto_columns": null,
            "grid_auto_flow": null,
            "grid_auto_rows": null,
            "grid_column": null,
            "grid_gap": null,
            "grid_row": null,
            "grid_template_areas": null,
            "grid_template_columns": null,
            "grid_template_rows": null,
            "height": null,
            "justify_content": null,
            "justify_items": null,
            "left": null,
            "margin": null,
            "max_height": null,
            "max_width": null,
            "min_height": null,
            "min_width": null,
            "object_fit": null,
            "object_position": null,
            "order": null,
            "overflow": null,
            "overflow_x": null,
            "overflow_y": null,
            "padding": null,
            "right": null,
            "top": null,
            "visibility": null,
            "width": null
          }
        },
        "a6eb3d693a094ed388546e5def8086fc": {
          "model_module": "@jupyter-widgets/controls",
          "model_name": "DescriptionStyleModel",
          "model_module_version": "1.5.0",
          "state": {
            "_model_module": "@jupyter-widgets/controls",
            "_model_module_version": "1.5.0",
            "_model_name": "DescriptionStyleModel",
            "_view_count": null,
            "_view_module": "@jupyter-widgets/base",
            "_view_module_version": "1.2.0",
            "_view_name": "StyleView",
            "description_width": ""
          }
        },
        "3e567f28eb5c43928ffb88762c740dc5": {
          "model_module": "@jupyter-widgets/controls",
          "model_name": "HBoxModel",
          "model_module_version": "1.5.0",
          "state": {
            "_dom_classes": [],
            "_model_module": "@jupyter-widgets/controls",
            "_model_module_version": "1.5.0",
            "_model_name": "HBoxModel",
            "_view_count": null,
            "_view_module": "@jupyter-widgets/controls",
            "_view_module_version": "1.5.0",
            "_view_name": "HBoxView",
            "box_style": "",
            "children": [
              "IPY_MODEL_ccce43462fc44b5b95d7ad8ac2411443",
              "IPY_MODEL_5a3473b271ca415e886147601a494367",
              "IPY_MODEL_4114f77ec2624a529ba49f9d74c9a1c8"
            ],
            "layout": "IPY_MODEL_f495f68916d5476eaee65638d7694e46"
          }
        },
        "ccce43462fc44b5b95d7ad8ac2411443": {
          "model_module": "@jupyter-widgets/controls",
          "model_name": "HTMLModel",
          "model_module_version": "1.5.0",
          "state": {
            "_dom_classes": [],
            "_model_module": "@jupyter-widgets/controls",
            "_model_module_version": "1.5.0",
            "_model_name": "HTMLModel",
            "_view_count": null,
            "_view_module": "@jupyter-widgets/controls",
            "_view_module_version": "1.5.0",
            "_view_name": "HTMLView",
            "description": "",
            "description_tooltip": null,
            "layout": "IPY_MODEL_62e6207615cb4c5bb9ae7b667e9f7e25",
            "placeholder": "​",
            "style": "IPY_MODEL_7f62f1ec85da496f9a95797e81db9b41",
            "value": "Downloading: 100%"
          }
        },
        "5a3473b271ca415e886147601a494367": {
          "model_module": "@jupyter-widgets/controls",
          "model_name": "FloatProgressModel",
          "model_module_version": "1.5.0",
          "state": {
            "_dom_classes": [],
            "_model_module": "@jupyter-widgets/controls",
            "_model_module_version": "1.5.0",
            "_model_name": "FloatProgressModel",
            "_view_count": null,
            "_view_module": "@jupyter-widgets/controls",
            "_view_module_version": "1.5.0",
            "_view_name": "ProgressView",
            "bar_style": "success",
            "description": "",
            "description_tooltip": null,
            "layout": "IPY_MODEL_dfd7dce92c5645728139bb2ab452c050",
            "max": 466062,
            "min": 0,
            "orientation": "horizontal",
            "style": "IPY_MODEL_714be713caa04681b639d3fde5ef41c7",
            "value": 466062
          }
        },
        "4114f77ec2624a529ba49f9d74c9a1c8": {
          "model_module": "@jupyter-widgets/controls",
          "model_name": "HTMLModel",
          "model_module_version": "1.5.0",
          "state": {
            "_dom_classes": [],
            "_model_module": "@jupyter-widgets/controls",
            "_model_module_version": "1.5.0",
            "_model_name": "HTMLModel",
            "_view_count": null,
            "_view_module": "@jupyter-widgets/controls",
            "_view_module_version": "1.5.0",
            "_view_name": "HTMLView",
            "description": "",
            "description_tooltip": null,
            "layout": "IPY_MODEL_57c9614918124debbd8efb9f59b98300",
            "placeholder": "​",
            "style": "IPY_MODEL_2d855e2c90bb4588aad2ebef89d09399",
            "value": " 455k/455k [00:00&lt;00:00, 347kB/s]"
          }
        },
        "f495f68916d5476eaee65638d7694e46": {
          "model_module": "@jupyter-widgets/base",
          "model_name": "LayoutModel",
          "model_module_version": "1.2.0",
          "state": {
            "_model_module": "@jupyter-widgets/base",
            "_model_module_version": "1.2.0",
            "_model_name": "LayoutModel",
            "_view_count": null,
            "_view_module": "@jupyter-widgets/base",
            "_view_module_version": "1.2.0",
            "_view_name": "LayoutView",
            "align_content": null,
            "align_items": null,
            "align_self": null,
            "border": null,
            "bottom": null,
            "display": null,
            "flex": null,
            "flex_flow": null,
            "grid_area": null,
            "grid_auto_columns": null,
            "grid_auto_flow": null,
            "grid_auto_rows": null,
            "grid_column": null,
            "grid_gap": null,
            "grid_row": null,
            "grid_template_areas": null,
            "grid_template_columns": null,
            "grid_template_rows": null,
            "height": null,
            "justify_content": null,
            "justify_items": null,
            "left": null,
            "margin": null,
            "max_height": null,
            "max_width": null,
            "min_height": null,
            "min_width": null,
            "object_fit": null,
            "object_position": null,
            "order": null,
            "overflow": null,
            "overflow_x": null,
            "overflow_y": null,
            "padding": null,
            "right": null,
            "top": null,
            "visibility": null,
            "width": null
          }
        },
        "62e6207615cb4c5bb9ae7b667e9f7e25": {
          "model_module": "@jupyter-widgets/base",
          "model_name": "LayoutModel",
          "model_module_version": "1.2.0",
          "state": {
            "_model_module": "@jupyter-widgets/base",
            "_model_module_version": "1.2.0",
            "_model_name": "LayoutModel",
            "_view_count": null,
            "_view_module": "@jupyter-widgets/base",
            "_view_module_version": "1.2.0",
            "_view_name": "LayoutView",
            "align_content": null,
            "align_items": null,
            "align_self": null,
            "border": null,
            "bottom": null,
            "display": null,
            "flex": null,
            "flex_flow": null,
            "grid_area": null,
            "grid_auto_columns": null,
            "grid_auto_flow": null,
            "grid_auto_rows": null,
            "grid_column": null,
            "grid_gap": null,
            "grid_row": null,
            "grid_template_areas": null,
            "grid_template_columns": null,
            "grid_template_rows": null,
            "height": null,
            "justify_content": null,
            "justify_items": null,
            "left": null,
            "margin": null,
            "max_height": null,
            "max_width": null,
            "min_height": null,
            "min_width": null,
            "object_fit": null,
            "object_position": null,
            "order": null,
            "overflow": null,
            "overflow_x": null,
            "overflow_y": null,
            "padding": null,
            "right": null,
            "top": null,
            "visibility": null,
            "width": null
          }
        },
        "7f62f1ec85da496f9a95797e81db9b41": {
          "model_module": "@jupyter-widgets/controls",
          "model_name": "DescriptionStyleModel",
          "model_module_version": "1.5.0",
          "state": {
            "_model_module": "@jupyter-widgets/controls",
            "_model_module_version": "1.5.0",
            "_model_name": "DescriptionStyleModel",
            "_view_count": null,
            "_view_module": "@jupyter-widgets/base",
            "_view_module_version": "1.2.0",
            "_view_name": "StyleView",
            "description_width": ""
          }
        },
        "dfd7dce92c5645728139bb2ab452c050": {
          "model_module": "@jupyter-widgets/base",
          "model_name": "LayoutModel",
          "model_module_version": "1.2.0",
          "state": {
            "_model_module": "@jupyter-widgets/base",
            "_model_module_version": "1.2.0",
            "_model_name": "LayoutModel",
            "_view_count": null,
            "_view_module": "@jupyter-widgets/base",
            "_view_module_version": "1.2.0",
            "_view_name": "LayoutView",
            "align_content": null,
            "align_items": null,
            "align_self": null,
            "border": null,
            "bottom": null,
            "display": null,
            "flex": null,
            "flex_flow": null,
            "grid_area": null,
            "grid_auto_columns": null,
            "grid_auto_flow": null,
            "grid_auto_rows": null,
            "grid_column": null,
            "grid_gap": null,
            "grid_row": null,
            "grid_template_areas": null,
            "grid_template_columns": null,
            "grid_template_rows": null,
            "height": null,
            "justify_content": null,
            "justify_items": null,
            "left": null,
            "margin": null,
            "max_height": null,
            "max_width": null,
            "min_height": null,
            "min_width": null,
            "object_fit": null,
            "object_position": null,
            "order": null,
            "overflow": null,
            "overflow_x": null,
            "overflow_y": null,
            "padding": null,
            "right": null,
            "top": null,
            "visibility": null,
            "width": null
          }
        },
        "714be713caa04681b639d3fde5ef41c7": {
          "model_module": "@jupyter-widgets/controls",
          "model_name": "ProgressStyleModel",
          "model_module_version": "1.5.0",
          "state": {
            "_model_module": "@jupyter-widgets/controls",
            "_model_module_version": "1.5.0",
            "_model_name": "ProgressStyleModel",
            "_view_count": null,
            "_view_module": "@jupyter-widgets/base",
            "_view_module_version": "1.2.0",
            "_view_name": "StyleView",
            "bar_color": null,
            "description_width": ""
          }
        },
        "57c9614918124debbd8efb9f59b98300": {
          "model_module": "@jupyter-widgets/base",
          "model_name": "LayoutModel",
          "model_module_version": "1.2.0",
          "state": {
            "_model_module": "@jupyter-widgets/base",
            "_model_module_version": "1.2.0",
            "_model_name": "LayoutModel",
            "_view_count": null,
            "_view_module": "@jupyter-widgets/base",
            "_view_module_version": "1.2.0",
            "_view_name": "LayoutView",
            "align_content": null,
            "align_items": null,
            "align_self": null,
            "border": null,
            "bottom": null,
            "display": null,
            "flex": null,
            "flex_flow": null,
            "grid_area": null,
            "grid_auto_columns": null,
            "grid_auto_flow": null,
            "grid_auto_rows": null,
            "grid_column": null,
            "grid_gap": null,
            "grid_row": null,
            "grid_template_areas": null,
            "grid_template_columns": null,
            "grid_template_rows": null,
            "height": null,
            "justify_content": null,
            "justify_items": null,
            "left": null,
            "margin": null,
            "max_height": null,
            "max_width": null,
            "min_height": null,
            "min_width": null,
            "object_fit": null,
            "object_position": null,
            "order": null,
            "overflow": null,
            "overflow_x": null,
            "overflow_y": null,
            "padding": null,
            "right": null,
            "top": null,
            "visibility": null,
            "width": null
          }
        },
        "2d855e2c90bb4588aad2ebef89d09399": {
          "model_module": "@jupyter-widgets/controls",
          "model_name": "DescriptionStyleModel",
          "model_module_version": "1.5.0",
          "state": {
            "_model_module": "@jupyter-widgets/controls",
            "_model_module_version": "1.5.0",
            "_model_name": "DescriptionStyleModel",
            "_view_count": null,
            "_view_module": "@jupyter-widgets/base",
            "_view_module_version": "1.2.0",
            "_view_name": "StyleView",
            "description_width": ""
          }
        },
        "836120e5684b4eb287accffbb794c820": {
          "model_module": "@jupyter-widgets/controls",
          "model_name": "HBoxModel",
          "model_module_version": "1.5.0",
          "state": {
            "_dom_classes": [],
            "_model_module": "@jupyter-widgets/controls",
            "_model_module_version": "1.5.0",
            "_model_name": "HBoxModel",
            "_view_count": null,
            "_view_module": "@jupyter-widgets/controls",
            "_view_module_version": "1.5.0",
            "_view_name": "HBoxView",
            "box_style": "",
            "children": [
              "IPY_MODEL_59de0658aec84c1687f75700c5b4ae75",
              "IPY_MODEL_de6bd877852f488eb42bb1f23db13f6f",
              "IPY_MODEL_5f57c1280db04ff4a1960d2a70ea7b37"
            ],
            "layout": "IPY_MODEL_bccb9317077b41f492bf9ccbf274ca39"
          }
        },
        "59de0658aec84c1687f75700c5b4ae75": {
          "model_module": "@jupyter-widgets/controls",
          "model_name": "HTMLModel",
          "model_module_version": "1.5.0",
          "state": {
            "_dom_classes": [],
            "_model_module": "@jupyter-widgets/controls",
            "_model_module_version": "1.5.0",
            "_model_name": "HTMLModel",
            "_view_count": null,
            "_view_module": "@jupyter-widgets/controls",
            "_view_module_version": "1.5.0",
            "_view_name": "HTMLView",
            "description": "",
            "description_tooltip": null,
            "layout": "IPY_MODEL_0680fd2223454dfdaa005179c6237073",
            "placeholder": "​",
            "style": "IPY_MODEL_b25f843da7cb4c71b5b575c6259b4974",
            "value": "Downloading: 100%"
          }
        },
        "de6bd877852f488eb42bb1f23db13f6f": {
          "model_module": "@jupyter-widgets/controls",
          "model_name": "FloatProgressModel",
          "model_module_version": "1.5.0",
          "state": {
            "_dom_classes": [],
            "_model_module": "@jupyter-widgets/controls",
            "_model_module_version": "1.5.0",
            "_model_name": "FloatProgressModel",
            "_view_count": null,
            "_view_module": "@jupyter-widgets/controls",
            "_view_module_version": "1.5.0",
            "_view_name": "ProgressView",
            "bar_style": "success",
            "description": "",
            "description_tooltip": null,
            "layout": "IPY_MODEL_f0e0c80a446e4c2fb7391b7c43e6f84e",
            "max": 28,
            "min": 0,
            "orientation": "horizontal",
            "style": "IPY_MODEL_798d772edbf341faa34724e2ce77c2d6",
            "value": 28
          }
        },
        "5f57c1280db04ff4a1960d2a70ea7b37": {
          "model_module": "@jupyter-widgets/controls",
          "model_name": "HTMLModel",
          "model_module_version": "1.5.0",
          "state": {
            "_dom_classes": [],
            "_model_module": "@jupyter-widgets/controls",
            "_model_module_version": "1.5.0",
            "_model_name": "HTMLModel",
            "_view_count": null,
            "_view_module": "@jupyter-widgets/controls",
            "_view_module_version": "1.5.0",
            "_view_name": "HTMLView",
            "description": "",
            "description_tooltip": null,
            "layout": "IPY_MODEL_3ab0f31cc5d047459649ad7f0029ffc3",
            "placeholder": "​",
            "style": "IPY_MODEL_d50d9809e3644eda80cc2ca4366e4406",
            "value": " 28.0/28.0 [00:00&lt;00:00, 1.97kB/s]"
          }
        },
        "bccb9317077b41f492bf9ccbf274ca39": {
          "model_module": "@jupyter-widgets/base",
          "model_name": "LayoutModel",
          "model_module_version": "1.2.0",
          "state": {
            "_model_module": "@jupyter-widgets/base",
            "_model_module_version": "1.2.0",
            "_model_name": "LayoutModel",
            "_view_count": null,
            "_view_module": "@jupyter-widgets/base",
            "_view_module_version": "1.2.0",
            "_view_name": "LayoutView",
            "align_content": null,
            "align_items": null,
            "align_self": null,
            "border": null,
            "bottom": null,
            "display": null,
            "flex": null,
            "flex_flow": null,
            "grid_area": null,
            "grid_auto_columns": null,
            "grid_auto_flow": null,
            "grid_auto_rows": null,
            "grid_column": null,
            "grid_gap": null,
            "grid_row": null,
            "grid_template_areas": null,
            "grid_template_columns": null,
            "grid_template_rows": null,
            "height": null,
            "justify_content": null,
            "justify_items": null,
            "left": null,
            "margin": null,
            "max_height": null,
            "max_width": null,
            "min_height": null,
            "min_width": null,
            "object_fit": null,
            "object_position": null,
            "order": null,
            "overflow": null,
            "overflow_x": null,
            "overflow_y": null,
            "padding": null,
            "right": null,
            "top": null,
            "visibility": null,
            "width": null
          }
        },
        "0680fd2223454dfdaa005179c6237073": {
          "model_module": "@jupyter-widgets/base",
          "model_name": "LayoutModel",
          "model_module_version": "1.2.0",
          "state": {
            "_model_module": "@jupyter-widgets/base",
            "_model_module_version": "1.2.0",
            "_model_name": "LayoutModel",
            "_view_count": null,
            "_view_module": "@jupyter-widgets/base",
            "_view_module_version": "1.2.0",
            "_view_name": "LayoutView",
            "align_content": null,
            "align_items": null,
            "align_self": null,
            "border": null,
            "bottom": null,
            "display": null,
            "flex": null,
            "flex_flow": null,
            "grid_area": null,
            "grid_auto_columns": null,
            "grid_auto_flow": null,
            "grid_auto_rows": null,
            "grid_column": null,
            "grid_gap": null,
            "grid_row": null,
            "grid_template_areas": null,
            "grid_template_columns": null,
            "grid_template_rows": null,
            "height": null,
            "justify_content": null,
            "justify_items": null,
            "left": null,
            "margin": null,
            "max_height": null,
            "max_width": null,
            "min_height": null,
            "min_width": null,
            "object_fit": null,
            "object_position": null,
            "order": null,
            "overflow": null,
            "overflow_x": null,
            "overflow_y": null,
            "padding": null,
            "right": null,
            "top": null,
            "visibility": null,
            "width": null
          }
        },
        "b25f843da7cb4c71b5b575c6259b4974": {
          "model_module": "@jupyter-widgets/controls",
          "model_name": "DescriptionStyleModel",
          "model_module_version": "1.5.0",
          "state": {
            "_model_module": "@jupyter-widgets/controls",
            "_model_module_version": "1.5.0",
            "_model_name": "DescriptionStyleModel",
            "_view_count": null,
            "_view_module": "@jupyter-widgets/base",
            "_view_module_version": "1.2.0",
            "_view_name": "StyleView",
            "description_width": ""
          }
        },
        "f0e0c80a446e4c2fb7391b7c43e6f84e": {
          "model_module": "@jupyter-widgets/base",
          "model_name": "LayoutModel",
          "model_module_version": "1.2.0",
          "state": {
            "_model_module": "@jupyter-widgets/base",
            "_model_module_version": "1.2.0",
            "_model_name": "LayoutModel",
            "_view_count": null,
            "_view_module": "@jupyter-widgets/base",
            "_view_module_version": "1.2.0",
            "_view_name": "LayoutView",
            "align_content": null,
            "align_items": null,
            "align_self": null,
            "border": null,
            "bottom": null,
            "display": null,
            "flex": null,
            "flex_flow": null,
            "grid_area": null,
            "grid_auto_columns": null,
            "grid_auto_flow": null,
            "grid_auto_rows": null,
            "grid_column": null,
            "grid_gap": null,
            "grid_row": null,
            "grid_template_areas": null,
            "grid_template_columns": null,
            "grid_template_rows": null,
            "height": null,
            "justify_content": null,
            "justify_items": null,
            "left": null,
            "margin": null,
            "max_height": null,
            "max_width": null,
            "min_height": null,
            "min_width": null,
            "object_fit": null,
            "object_position": null,
            "order": null,
            "overflow": null,
            "overflow_x": null,
            "overflow_y": null,
            "padding": null,
            "right": null,
            "top": null,
            "visibility": null,
            "width": null
          }
        },
        "798d772edbf341faa34724e2ce77c2d6": {
          "model_module": "@jupyter-widgets/controls",
          "model_name": "ProgressStyleModel",
          "model_module_version": "1.5.0",
          "state": {
            "_model_module": "@jupyter-widgets/controls",
            "_model_module_version": "1.5.0",
            "_model_name": "ProgressStyleModel",
            "_view_count": null,
            "_view_module": "@jupyter-widgets/base",
            "_view_module_version": "1.2.0",
            "_view_name": "StyleView",
            "bar_color": null,
            "description_width": ""
          }
        },
        "3ab0f31cc5d047459649ad7f0029ffc3": {
          "model_module": "@jupyter-widgets/base",
          "model_name": "LayoutModel",
          "model_module_version": "1.2.0",
          "state": {
            "_model_module": "@jupyter-widgets/base",
            "_model_module_version": "1.2.0",
            "_model_name": "LayoutModel",
            "_view_count": null,
            "_view_module": "@jupyter-widgets/base",
            "_view_module_version": "1.2.0",
            "_view_name": "LayoutView",
            "align_content": null,
            "align_items": null,
            "align_self": null,
            "border": null,
            "bottom": null,
            "display": null,
            "flex": null,
            "flex_flow": null,
            "grid_area": null,
            "grid_auto_columns": null,
            "grid_auto_flow": null,
            "grid_auto_rows": null,
            "grid_column": null,
            "grid_gap": null,
            "grid_row": null,
            "grid_template_areas": null,
            "grid_template_columns": null,
            "grid_template_rows": null,
            "height": null,
            "justify_content": null,
            "justify_items": null,
            "left": null,
            "margin": null,
            "max_height": null,
            "max_width": null,
            "min_height": null,
            "min_width": null,
            "object_fit": null,
            "object_position": null,
            "order": null,
            "overflow": null,
            "overflow_x": null,
            "overflow_y": null,
            "padding": null,
            "right": null,
            "top": null,
            "visibility": null,
            "width": null
          }
        },
        "d50d9809e3644eda80cc2ca4366e4406": {
          "model_module": "@jupyter-widgets/controls",
          "model_name": "DescriptionStyleModel",
          "model_module_version": "1.5.0",
          "state": {
            "_model_module": "@jupyter-widgets/controls",
            "_model_module_version": "1.5.0",
            "_model_name": "DescriptionStyleModel",
            "_view_count": null,
            "_view_module": "@jupyter-widgets/base",
            "_view_module_version": "1.2.0",
            "_view_name": "StyleView",
            "description_width": ""
          }
        },
        "e3b08c934bc34e2ea344b21d97bde490": {
          "model_module": "@jupyter-widgets/controls",
          "model_name": "HBoxModel",
          "model_module_version": "1.5.0",
          "state": {
            "_dom_classes": [],
            "_model_module": "@jupyter-widgets/controls",
            "_model_module_version": "1.5.0",
            "_model_name": "HBoxModel",
            "_view_count": null,
            "_view_module": "@jupyter-widgets/controls",
            "_view_module_version": "1.5.0",
            "_view_name": "HBoxView",
            "box_style": "",
            "children": [
              "IPY_MODEL_17deccf56b4b4b82a72d6806883adafb",
              "IPY_MODEL_456d76664ad4446c933b8feed62fbdf3",
              "IPY_MODEL_ae1e655fdf704180b5e5145e2b93d942"
            ],
            "layout": "IPY_MODEL_387e584762b341e8a1514b71b8ca930b"
          }
        },
        "17deccf56b4b4b82a72d6806883adafb": {
          "model_module": "@jupyter-widgets/controls",
          "model_name": "HTMLModel",
          "model_module_version": "1.5.0",
          "state": {
            "_dom_classes": [],
            "_model_module": "@jupyter-widgets/controls",
            "_model_module_version": "1.5.0",
            "_model_name": "HTMLModel",
            "_view_count": null,
            "_view_module": "@jupyter-widgets/controls",
            "_view_module_version": "1.5.0",
            "_view_name": "HTMLView",
            "description": "",
            "description_tooltip": null,
            "layout": "IPY_MODEL_922914f2b2084ba1ae987c65dc76b4c6",
            "placeholder": "​",
            "style": "IPY_MODEL_187769e9f80d47268750d7cae6541ca1",
            "value": "Downloading: 100%"
          }
        },
        "456d76664ad4446c933b8feed62fbdf3": {
          "model_module": "@jupyter-widgets/controls",
          "model_name": "FloatProgressModel",
          "model_module_version": "1.5.0",
          "state": {
            "_dom_classes": [],
            "_model_module": "@jupyter-widgets/controls",
            "_model_module_version": "1.5.0",
            "_model_name": "FloatProgressModel",
            "_view_count": null,
            "_view_module": "@jupyter-widgets/controls",
            "_view_module_version": "1.5.0",
            "_view_name": "ProgressView",
            "bar_style": "success",
            "description": "",
            "description_tooltip": null,
            "layout": "IPY_MODEL_30993203416046d3bfb000a8cdc6ab0a",
            "max": 483,
            "min": 0,
            "orientation": "horizontal",
            "style": "IPY_MODEL_e37f9daa8b104e089c384848b2729950",
            "value": 483
          }
        },
        "ae1e655fdf704180b5e5145e2b93d942": {
          "model_module": "@jupyter-widgets/controls",
          "model_name": "HTMLModel",
          "model_module_version": "1.5.0",
          "state": {
            "_dom_classes": [],
            "_model_module": "@jupyter-widgets/controls",
            "_model_module_version": "1.5.0",
            "_model_name": "HTMLModel",
            "_view_count": null,
            "_view_module": "@jupyter-widgets/controls",
            "_view_module_version": "1.5.0",
            "_view_name": "HTMLView",
            "description": "",
            "description_tooltip": null,
            "layout": "IPY_MODEL_bd2bc6511e90454abad28adab3860c81",
            "placeholder": "​",
            "style": "IPY_MODEL_135dbf1c4db94e5aaa9ee03554d79f87",
            "value": " 483/483 [00:00&lt;00:00, 29.0kB/s]"
          }
        },
        "387e584762b341e8a1514b71b8ca930b": {
          "model_module": "@jupyter-widgets/base",
          "model_name": "LayoutModel",
          "model_module_version": "1.2.0",
          "state": {
            "_model_module": "@jupyter-widgets/base",
            "_model_module_version": "1.2.0",
            "_model_name": "LayoutModel",
            "_view_count": null,
            "_view_module": "@jupyter-widgets/base",
            "_view_module_version": "1.2.0",
            "_view_name": "LayoutView",
            "align_content": null,
            "align_items": null,
            "align_self": null,
            "border": null,
            "bottom": null,
            "display": null,
            "flex": null,
            "flex_flow": null,
            "grid_area": null,
            "grid_auto_columns": null,
            "grid_auto_flow": null,
            "grid_auto_rows": null,
            "grid_column": null,
            "grid_gap": null,
            "grid_row": null,
            "grid_template_areas": null,
            "grid_template_columns": null,
            "grid_template_rows": null,
            "height": null,
            "justify_content": null,
            "justify_items": null,
            "left": null,
            "margin": null,
            "max_height": null,
            "max_width": null,
            "min_height": null,
            "min_width": null,
            "object_fit": null,
            "object_position": null,
            "order": null,
            "overflow": null,
            "overflow_x": null,
            "overflow_y": null,
            "padding": null,
            "right": null,
            "top": null,
            "visibility": null,
            "width": null
          }
        },
        "922914f2b2084ba1ae987c65dc76b4c6": {
          "model_module": "@jupyter-widgets/base",
          "model_name": "LayoutModel",
          "model_module_version": "1.2.0",
          "state": {
            "_model_module": "@jupyter-widgets/base",
            "_model_module_version": "1.2.0",
            "_model_name": "LayoutModel",
            "_view_count": null,
            "_view_module": "@jupyter-widgets/base",
            "_view_module_version": "1.2.0",
            "_view_name": "LayoutView",
            "align_content": null,
            "align_items": null,
            "align_self": null,
            "border": null,
            "bottom": null,
            "display": null,
            "flex": null,
            "flex_flow": null,
            "grid_area": null,
            "grid_auto_columns": null,
            "grid_auto_flow": null,
            "grid_auto_rows": null,
            "grid_column": null,
            "grid_gap": null,
            "grid_row": null,
            "grid_template_areas": null,
            "grid_template_columns": null,
            "grid_template_rows": null,
            "height": null,
            "justify_content": null,
            "justify_items": null,
            "left": null,
            "margin": null,
            "max_height": null,
            "max_width": null,
            "min_height": null,
            "min_width": null,
            "object_fit": null,
            "object_position": null,
            "order": null,
            "overflow": null,
            "overflow_x": null,
            "overflow_y": null,
            "padding": null,
            "right": null,
            "top": null,
            "visibility": null,
            "width": null
          }
        },
        "187769e9f80d47268750d7cae6541ca1": {
          "model_module": "@jupyter-widgets/controls",
          "model_name": "DescriptionStyleModel",
          "model_module_version": "1.5.0",
          "state": {
            "_model_module": "@jupyter-widgets/controls",
            "_model_module_version": "1.5.0",
            "_model_name": "DescriptionStyleModel",
            "_view_count": null,
            "_view_module": "@jupyter-widgets/base",
            "_view_module_version": "1.2.0",
            "_view_name": "StyleView",
            "description_width": ""
          }
        },
        "30993203416046d3bfb000a8cdc6ab0a": {
          "model_module": "@jupyter-widgets/base",
          "model_name": "LayoutModel",
          "model_module_version": "1.2.0",
          "state": {
            "_model_module": "@jupyter-widgets/base",
            "_model_module_version": "1.2.0",
            "_model_name": "LayoutModel",
            "_view_count": null,
            "_view_module": "@jupyter-widgets/base",
            "_view_module_version": "1.2.0",
            "_view_name": "LayoutView",
            "align_content": null,
            "align_items": null,
            "align_self": null,
            "border": null,
            "bottom": null,
            "display": null,
            "flex": null,
            "flex_flow": null,
            "grid_area": null,
            "grid_auto_columns": null,
            "grid_auto_flow": null,
            "grid_auto_rows": null,
            "grid_column": null,
            "grid_gap": null,
            "grid_row": null,
            "grid_template_areas": null,
            "grid_template_columns": null,
            "grid_template_rows": null,
            "height": null,
            "justify_content": null,
            "justify_items": null,
            "left": null,
            "margin": null,
            "max_height": null,
            "max_width": null,
            "min_height": null,
            "min_width": null,
            "object_fit": null,
            "object_position": null,
            "order": null,
            "overflow": null,
            "overflow_x": null,
            "overflow_y": null,
            "padding": null,
            "right": null,
            "top": null,
            "visibility": null,
            "width": null
          }
        },
        "e37f9daa8b104e089c384848b2729950": {
          "model_module": "@jupyter-widgets/controls",
          "model_name": "ProgressStyleModel",
          "model_module_version": "1.5.0",
          "state": {
            "_model_module": "@jupyter-widgets/controls",
            "_model_module_version": "1.5.0",
            "_model_name": "ProgressStyleModel",
            "_view_count": null,
            "_view_module": "@jupyter-widgets/base",
            "_view_module_version": "1.2.0",
            "_view_name": "StyleView",
            "bar_color": null,
            "description_width": ""
          }
        },
        "bd2bc6511e90454abad28adab3860c81": {
          "model_module": "@jupyter-widgets/base",
          "model_name": "LayoutModel",
          "model_module_version": "1.2.0",
          "state": {
            "_model_module": "@jupyter-widgets/base",
            "_model_module_version": "1.2.0",
            "_model_name": "LayoutModel",
            "_view_count": null,
            "_view_module": "@jupyter-widgets/base",
            "_view_module_version": "1.2.0",
            "_view_name": "LayoutView",
            "align_content": null,
            "align_items": null,
            "align_self": null,
            "border": null,
            "bottom": null,
            "display": null,
            "flex": null,
            "flex_flow": null,
            "grid_area": null,
            "grid_auto_columns": null,
            "grid_auto_flow": null,
            "grid_auto_rows": null,
            "grid_column": null,
            "grid_gap": null,
            "grid_row": null,
            "grid_template_areas": null,
            "grid_template_columns": null,
            "grid_template_rows": null,
            "height": null,
            "justify_content": null,
            "justify_items": null,
            "left": null,
            "margin": null,
            "max_height": null,
            "max_width": null,
            "min_height": null,
            "min_width": null,
            "object_fit": null,
            "object_position": null,
            "order": null,
            "overflow": null,
            "overflow_x": null,
            "overflow_y": null,
            "padding": null,
            "right": null,
            "top": null,
            "visibility": null,
            "width": null
          }
        },
        "135dbf1c4db94e5aaa9ee03554d79f87": {
          "model_module": "@jupyter-widgets/controls",
          "model_name": "DescriptionStyleModel",
          "model_module_version": "1.5.0",
          "state": {
            "_model_module": "@jupyter-widgets/controls",
            "_model_module_version": "1.5.0",
            "_model_name": "DescriptionStyleModel",
            "_view_count": null,
            "_view_module": "@jupyter-widgets/base",
            "_view_module_version": "1.2.0",
            "_view_name": "StyleView",
            "description_width": ""
          }
        }
      }
    }
  },
  "cells": [
    {
      "cell_type": "markdown",
      "metadata": {
        "id": "view-in-github",
        "colab_type": "text"
      },
      "source": [
        "<a href=\"https://colab.research.google.com/github/subhodipbiswas/named_person_parser/blob/main/name_person_parser.ipynb\" target=\"_parent\"><img src=\"https://colab.research.google.com/assets/colab-badge.svg\" alt=\"Open In Colab\"/></a>"
      ]
    },
    {
      "cell_type": "markdown",
      "metadata": {
        "id": "MyETdB-dkBsX"
      },
      "source": [
        "## **Creating a name person parser using BERT**\n",
        "\n",
        "In this notebook, we are going to a create a basic **Named Person Parser** based on the [Transformers library](https://github.com/huggingface/transformers). This problems has the same flavor as Named Entity Recognition (**NER**) except that a named entity parser **processes a piece of text that contains names of people**, it typically outputs a structured representation of the entities it has identified. Here, the base model is BERT, with a token classification head on top, allowing it to make predictions at the token level, rather than the sequence level. NER is typically treated as a token classification problem, so that's what we are going to use it for.\n",
        "\n",
        "This attempt is based on the idea of **transfer learning**, where a large neural network (NN) undergoes unsupervised training, and is then fine-tuned on a specific task of interest. In this case, BERT is the pretrained NN that we use. Now, we are going to fine-tune this network on a [dataset of person names](https://github.com/datamade/probablepeople/blob/master/name_data/labeled/person_labeled.xml). Most likely this dataset contains names of professors in Computer Science."
      ]
    },
    {
      "cell_type": "markdown",
      "metadata": {
        "id": "e7wfLWyYkvDi"
      },
      "source": [
        "#### **Importing dependencies and preparing the environment**\n",
        "\n",
        "It is assumed that the following libraries are installed:\n",
        "```\n",
        "* pandas\n",
        "* numpy\n",
        "* sklearn\n",
        "* pytorch\n",
        "* transformers\n",
        "* seqeval\n",
        "```\n",
        "Note that this experiment was performed in Google Colab Pro. The only additional libraries we need to install are transformers and seqeval (GPU version). GPUs are preferred since runtime in deep learning can be shortened significantly using a GPU instead of a CPU. This notebook uses GPU runtime (in Google Colab, you can - check \"Runtime\" - \"Change runtime type\" - and set the hardware accelerator to \"GPU\")."
      ]
    },
    {
      "cell_type": "code",
      "source": [
        "!python --version"
      ],
      "metadata": {
        "colab": {
          "base_uri": "https://localhost:8080/"
        },
        "id": "akqXlnKPs190",
        "outputId": "d9a11d20-3091-4741-db1a-d1c7ad54c715"
      },
      "execution_count": 1,
      "outputs": [
        {
          "output_type": "stream",
          "name": "stdout",
          "text": [
            "Python 3.9.16\n"
          ]
        }
      ]
    },
    {
      "cell_type": "code",
      "metadata": {
        "id": "j-sgUbzBXPZK"
      },
      "source": [
        "!pip install seqeval[gpu]\n",
        "!pip install transformers==4.11.3"
      ],
      "execution_count": null,
      "outputs": []
    },
    {
      "cell_type": "code",
      "metadata": {
        "id": "IEnlUbgm8z3B"
      },
      "source": [
        "import torch\n",
        "import pandas as pd\n",
        "import numpy as np"
      ],
      "execution_count": 3,
      "outputs": []
    },
    {
      "cell_type": "markdown",
      "metadata": {
        "id": "Jzq1w3L1K5M-"
      },
      "source": [
        "\n",
        "\n",
        "We can set the default device to GPU using the following code (if it prints \"cuda\", it means the GPU has been recognized):"
      ]
    },
    {
      "cell_type": "code",
      "metadata": {
        "id": "Sm1krxJtKxpx",
        "tags": [],
        "colab": {
          "base_uri": "https://localhost:8080/"
        },
        "outputId": "5b6e1b53-31d2-4a78-d275-8e30002e15a5"
      },
      "source": [
        "from torch import cuda\n",
        "device = 'cuda' if cuda.is_available() else 'cpu'\n",
        "print(device)"
      ],
      "execution_count": 4,
      "outputs": [
        {
          "output_type": "stream",
          "name": "stdout",
          "text": [
            "cuda\n"
          ]
        }
      ]
    },
    {
      "cell_type": "markdown",
      "metadata": {
        "id": "ahwMsmyG5ZPE"
      },
      "source": [
        "#### **Downloading and preprocessing the data**\n",
        "\n",
        "I have already downloaded the file and stored it in Google Drive. I will just access it from Google Drive."
      ]
    },
    {
      "cell_type": "code",
      "source": [
        "!pip install xmltodict\n",
        "!pip install tqdm"
      ],
      "metadata": {
        "colab": {
          "base_uri": "https://localhost:8080/"
        },
        "id": "x-rKB7SSSNqk",
        "outputId": "9093e048-6c0d-4561-d91d-d71d53b2c27c"
      },
      "execution_count": 5,
      "outputs": [
        {
          "output_type": "stream",
          "name": "stdout",
          "text": [
            "Looking in indexes: https://pypi.org/simple, https://us-python.pkg.dev/colab-wheels/public/simple/\n",
            "Collecting xmltodict\n",
            "  Downloading xmltodict-0.13.0-py2.py3-none-any.whl (10.0 kB)\n",
            "Installing collected packages: xmltodict\n",
            "Successfully installed xmltodict-0.13.0\n",
            "Looking in indexes: https://pypi.org/simple, https://us-python.pkg.dev/colab-wheels/public/simple/\n",
            "Requirement already satisfied: tqdm in /usr/local/lib/python3.9/dist-packages (4.65.0)\n"
          ]
        }
      ]
    },
    {
      "cell_type": "code",
      "source": [
        "import sys\n",
        "import os\n",
        "from tqdm import tqdm\n",
        "from google.colab import drive\n",
        "drive.mount('/content/drive')\n",
        "\n",
        "#Append the directory to your python path using sys\n",
        "prefix = '/content/drive/My Drive/'"
      ],
      "metadata": {
        "colab": {
          "base_uri": "https://localhost:8080/"
        },
        "id": "Y3XUlJrsJ2nO",
        "outputId": "ed0e5e03-a4e7-4b4a-b06d-828cd0adc73b"
      },
      "execution_count": 6,
      "outputs": [
        {
          "output_type": "stream",
          "name": "stdout",
          "text": [
            "Mounted at /content/drive\n"
          ]
        }
      ]
    },
    {
      "cell_type": "markdown",
      "source": [
        "#### Read the file and use `xmltodict` library to generate a dictionary"
      ],
      "metadata": {
        "id": "5X46YWC4Xr8L"
      }
    },
    {
      "cell_type": "code",
      "source": [
        "import xmltodict"
      ],
      "metadata": {
        "id": "H2VAvkInYNIG"
      },
      "execution_count": 7,
      "outputs": []
    },
    {
      "cell_type": "code",
      "source": [
        "# modify \"customized_path_to_your_homework\" here to where you uploaded your homework\n",
        "customized_path_to_your_homework = 'Job Application/2023/Veryfi/'\n",
        "sys_path = prefix + customized_path_to_your_homework\n",
        "sys.path.append(sys_path)\n",
        "xml_file_location = sys_path + 'person_labeled.xml'"
      ],
      "metadata": {
        "id": "zvnZ3kG3W5iq"
      },
      "execution_count": 8,
      "outputs": []
    },
    {
      "cell_type": "code",
      "metadata": {
        "id": "deLB9HVX5I6F",
        "colab": {
          "base_uri": "https://localhost:8080/",
          "height": 35
        },
        "outputId": "44be9928-cf88-4243-a6f0-40654fa6aaa0"
      },
      "source": [
        "xml_file_location"
      ],
      "execution_count": 9,
      "outputs": [
        {
          "output_type": "execute_result",
          "data": {
            "text/plain": [
              "'/content/drive/My Drive/Job Application/2023/Veryfi/person_labeled.xml'"
            ],
            "application/vnd.google.colaboratory.intrinsic+json": {
              "type": "string"
            }
          },
          "metadata": {},
          "execution_count": 9
        }
      ]
    },
    {
      "cell_type": "code",
      "source": [
        "# Load the XML file\n",
        "with open(xml_file_location) as f:\n",
        "    xml_data = f.read()\n",
        "\n",
        "# Convert the XML data to a Python dictionary\n",
        "data_dict = xmltodict.parse(xml_data)"
      ],
      "metadata": {
        "id": "UViuUIFLSh9S"
      },
      "execution_count": 10,
      "outputs": []
    },
    {
      "cell_type": "markdown",
      "source": [
        "#### Parse the data dictionary, separate out the names and corresponding tags\n",
        "\n",
        "There could be multiple variations of how names are written like `Patrick \"The Hoya Destroya\" Ewing`, `Dr. & Mrs. MIGUEL A ESPINAL SANTOS`, and so on. In the interest of time, I have written a very basic filtering scheme that removes any special character from a name and translates them to lowercase."
      ],
      "metadata": {
        "id": "SVyqYmiqY-os"
      }
    },
    {
      "cell_type": "code",
      "source": [
        "import re\n",
        "\n",
        "def filter_string(s):\n",
        "  if s == \"&\":\n",
        "    return \"And\"\n",
        "  try:\n",
        "    return re.sub(\"[^A-Z]\", \"\", s, 0, re.IGNORECASE).lower()\n",
        "  except Exception as e:\n",
        "    print(f\" Exception {e} for {s} of type {type(s)}\")\n",
        "    return s.lower()"
      ],
      "metadata": {
        "id": "RCA3c_8ES4y5"
      },
      "execution_count": 11,
      "outputs": []
    },
    {
      "cell_type": "markdown",
      "source": [
        "Scan each name and translate them in easy-to-work with format. For instance, `<Name><GivenName>Yaming</GivenName> <Surname>Yu</Surname></Name>` should be translate to `['Yaming', 'Yu'] \n",
        " ['GivenName', 'Surname']`."
      ],
      "metadata": {
        "id": "gsrV53SfbqhW"
      }
    },
    {
      "cell_type": "code",
      "source": [
        "texts, tags = [], []\n",
        "\n",
        "person_id = 0\n",
        "for person in tqdm(data_dict['NameCollection']['Name']):\n",
        "  person_id += 1\n",
        "  name_doc, name_tag = [], []\n",
        "\n",
        "  for tag, name in person.items():\n",
        "    try:\n",
        "      if type(name) is not list:\n",
        "        name_doc.append(filter_string(name))\n",
        "        name_tag.append(tag)\n",
        "      else:\n",
        "        for nam in name:\n",
        "          name_doc.append(filter_string(nam))\n",
        "          name_tag.append(tag)\n",
        "    except Exception as e:\n",
        "      print(f\"Encountered {e} for {name} \\t {type(name)}\")\n",
        "      person_id -= 1\n",
        "      continue\n",
        "\n",
        "  # Update the main files \"docs\" and \"tags\"\n",
        "  texts.append(name_doc)\n",
        "  tags.append(name_tag)\n",
        "\n",
        "print(f\"len(texts): {len(texts)} \\t len(tags): {(len(tags))}\")"
      ],
      "metadata": {
        "colab": {
          "base_uri": "https://localhost:8080/"
        },
        "id": "J1h_MCX-TFyT",
        "outputId": "dc8c33d8-b71c-4eb3-8ecf-54370aca5f0e"
      },
      "execution_count": 12,
      "outputs": [
        {
          "output_type": "stream",
          "name": "stderr",
          "text": [
            "100%|██████████| 2892/2892 [00:00<00:00, 24057.05it/s]"
          ]
        },
        {
          "output_type": "stream",
          "name": "stdout",
          "text": [
            "len(texts): 2892 \t len(tags): 2892\n"
          ]
        },
        {
          "output_type": "stream",
          "name": "stderr",
          "text": [
            "\n"
          ]
        }
      ]
    },
    {
      "cell_type": "markdown",
      "metadata": {
        "id": "xfdGDKlqXPZb"
      },
      "source": [
        "\n",
        "Putting out the statistics of differnet tags and their frequency: \n",
        "\n",
        "```\n",
        "Number of tags: 12\n",
        "GivenName             2350\n",
        "Surname               2338\n",
        "MiddleInitial          387\n",
        "MiddleName             190\n",
        "SuffixGenerational     165\n",
        "SuffixOther            115\n",
        "PrefixMarital          103\n",
        "Nickname                97\n",
        "And                     86\n",
        "FirstInitial            70\n",
        "PrefixOther             63\n",
        "LastInitial             46\n",
        "```\n",
        "\n",
        "Except the majority tags `GivenName` and `Surname`, this dataset has class imbalance problem. More data can certainly help or using focal loss function. However, no such modifications were made here."
      ]
    },
    {
      "cell_type": "markdown",
      "metadata": {
        "id": "JsjhdQbE-Lve"
      },
      "source": [
        "We create 2 dictionaries: one that maps individual tags to indices, and one that maps indices to their individual tags. This is necessary in order to create the labels (as computers work with numbers = indices, rather than words = tags) - see further in this notebook."
      ]
    },
    {
      "cell_type": "code",
      "source": [
        "unique_tags = set(tag for doc in tags for tag in doc)\n",
        "tag2id = {tag: id for id, tag in enumerate(unique_tags)}\n",
        "id2tag = {id: tag for tag, id in tag2id.items()}"
      ],
      "metadata": {
        "id": "C6StfgjiOe8R"
      },
      "execution_count": 13,
      "outputs": []
    },
    {
      "cell_type": "markdown",
      "metadata": {
        "id": "f5EHpuB78pIa"
      },
      "source": [
        "#### **Preparing the dataset and dataloader**"
      ]
    },
    {
      "cell_type": "markdown",
      "metadata": {
        "id": "hTP7zuWGWGUd"
      },
      "source": [
        "Based on the classes defined above, 2 datasets have been created, one for training and one for testing using a `80/20 split`."
      ]
    },
    {
      "cell_type": "code",
      "source": [
        "from sklearn.model_selection import train_test_split\n",
        "train_texts, val_texts, train_tags, val_tags = train_test_split(texts, tags, test_size=.2)"
      ],
      "metadata": {
        "id": "WxHy5FybOcC0"
      },
      "execution_count": 14,
      "outputs": []
    },
    {
      "cell_type": "markdown",
      "source": [
        "We use the [DistilBert](https://huggingface.co/docs/transformers/model_doc/distilbert) Fast Tokenizer` here as the pretrained NN. It is used to encode the data instances in the training and the test set."
      ],
      "metadata": {
        "id": "SA-1S37-dQ8V"
      }
    },
    {
      "cell_type": "code",
      "source": [
        "from transformers import DistilBertTokenizerFast\n",
        "tokenizer = DistilBertTokenizerFast.from_pretrained('distilbert-base-uncased')\n",
        "train_encodings = tokenizer(train_texts, is_split_into_words=True, return_offsets_mapping=True, padding=True, truncation=True)\n",
        "val_encodings = tokenizer(val_texts, is_split_into_words=True, return_offsets_mapping=True, padding=True, truncation=True)"
      ],
      "metadata": {
        "id": "0JkNb3cEOgtj",
        "colab": {
          "base_uri": "https://localhost:8080/",
          "height": 145,
          "referenced_widgets": [
            "0999bb2613384b499111d0a4851b62e9",
            "8a567d5d14a144b2afb9bb5234ab12dc",
            "d11a78aa7d8a4d318e65723ec6e47e1c",
            "4223fc4c1054431ba49e4d523326b77e",
            "3211960c0fe5428099aa9bb7d2731279",
            "49528b2ff24d40c6b25033062aa8e990",
            "5368cf39c77f4b0ebd157b0f9e6a9f12",
            "1f126af0e23044e48a1026257da6f7c1",
            "65f1d52ed93e465ab0ae5dbe98d8395e",
            "e2c28e12cdcd4085b064405aab29f9af",
            "a6eb3d693a094ed388546e5def8086fc",
            "3e567f28eb5c43928ffb88762c740dc5",
            "ccce43462fc44b5b95d7ad8ac2411443",
            "5a3473b271ca415e886147601a494367",
            "4114f77ec2624a529ba49f9d74c9a1c8",
            "f495f68916d5476eaee65638d7694e46",
            "62e6207615cb4c5bb9ae7b667e9f7e25",
            "7f62f1ec85da496f9a95797e81db9b41",
            "dfd7dce92c5645728139bb2ab452c050",
            "714be713caa04681b639d3fde5ef41c7",
            "57c9614918124debbd8efb9f59b98300",
            "2d855e2c90bb4588aad2ebef89d09399",
            "836120e5684b4eb287accffbb794c820",
            "59de0658aec84c1687f75700c5b4ae75",
            "de6bd877852f488eb42bb1f23db13f6f",
            "5f57c1280db04ff4a1960d2a70ea7b37",
            "bccb9317077b41f492bf9ccbf274ca39",
            "0680fd2223454dfdaa005179c6237073",
            "b25f843da7cb4c71b5b575c6259b4974",
            "f0e0c80a446e4c2fb7391b7c43e6f84e",
            "798d772edbf341faa34724e2ce77c2d6",
            "3ab0f31cc5d047459649ad7f0029ffc3",
            "d50d9809e3644eda80cc2ca4366e4406",
            "e3b08c934bc34e2ea344b21d97bde490",
            "17deccf56b4b4b82a72d6806883adafb",
            "456d76664ad4446c933b8feed62fbdf3",
            "ae1e655fdf704180b5e5145e2b93d942",
            "387e584762b341e8a1514b71b8ca930b",
            "922914f2b2084ba1ae987c65dc76b4c6",
            "187769e9f80d47268750d7cae6541ca1",
            "30993203416046d3bfb000a8cdc6ab0a",
            "e37f9daa8b104e089c384848b2729950",
            "bd2bc6511e90454abad28adab3860c81",
            "135dbf1c4db94e5aaa9ee03554d79f87"
          ]
        },
        "outputId": "2e2f1d00-6b7c-4af1-80fd-4559aab28160"
      },
      "execution_count": 15,
      "outputs": [
        {
          "output_type": "display_data",
          "data": {
            "text/plain": [
              "Downloading:   0%|          | 0.00/226k [00:00<?, ?B/s]"
            ],
            "application/vnd.jupyter.widget-view+json": {
              "version_major": 2,
              "version_minor": 0,
              "model_id": "0999bb2613384b499111d0a4851b62e9"
            }
          },
          "metadata": {}
        },
        {
          "output_type": "display_data",
          "data": {
            "text/plain": [
              "Downloading:   0%|          | 0.00/455k [00:00<?, ?B/s]"
            ],
            "application/vnd.jupyter.widget-view+json": {
              "version_major": 2,
              "version_minor": 0,
              "model_id": "3e567f28eb5c43928ffb88762c740dc5"
            }
          },
          "metadata": {}
        },
        {
          "output_type": "display_data",
          "data": {
            "text/plain": [
              "Downloading:   0%|          | 0.00/28.0 [00:00<?, ?B/s]"
            ],
            "application/vnd.jupyter.widget-view+json": {
              "version_major": 2,
              "version_minor": 0,
              "model_id": "836120e5684b4eb287accffbb794c820"
            }
          },
          "metadata": {}
        },
        {
          "output_type": "display_data",
          "data": {
            "text/plain": [
              "Downloading:   0%|          | 0.00/483 [00:00<?, ?B/s]"
            ],
            "application/vnd.jupyter.widget-view+json": {
              "version_major": 2,
              "version_minor": 0,
              "model_id": "e3b08c934bc34e2ea344b21d97bde490"
            }
          },
          "metadata": {}
        }
      ]
    },
    {
      "cell_type": "markdown",
      "source": [
        "The labels are encoded as well. The padding-based encoding helps to achieve a smoother representation of the labels in the vector space and improved performance. "
      ],
      "metadata": {
        "id": "g4IYw7sNeJbw"
      }
    },
    {
      "cell_type": "code",
      "source": [
        "def encode_tags(tags, encodings):\n",
        "  labels = [[tag2id[tag] for tag in doc] for doc in tags]\n",
        "  encoded_labels = []\n",
        "  \n",
        "  for doc_labels, doc_offset in zip(labels, encodings.offset_mapping):\n",
        "      # create an empty array of -100\n",
        "      doc_enc_labels = np.ones(len(doc_offset),dtype=int) * -100\n",
        "      arr_offset = np.array(doc_offset)\n",
        "      try:\n",
        "        # set labels whose first offset position is 0 and the second is not 0\n",
        "        doc_enc_labels[(arr_offset[:,0] == 0) & (arr_offset[:,1] != 0)] = doc_labels\n",
        "        encoded_labels.append(doc_enc_labels.tolist())\n",
        "      except Exception as e:\n",
        "        encoded_labels.append(doc_enc_labels.tolist())\n",
        "        continue\n",
        "  \n",
        "  return encoded_labels"
      ],
      "metadata": {
        "id": "nLEsA8KTOoxB"
      },
      "execution_count": 16,
      "outputs": []
    },
    {
      "cell_type": "code",
      "source": [
        "train_labels = encode_tags(train_tags, train_encodings)"
      ],
      "metadata": {
        "id": "0Gem1gepGroi"
      },
      "execution_count": 17,
      "outputs": []
    },
    {
      "cell_type": "code",
      "source": [
        "val_labels = encode_tags(val_tags, val_encodings)"
      ],
      "metadata": {
        "id": "aOwcv7yODt1e"
      },
      "execution_count": 18,
      "outputs": []
    },
    {
      "cell_type": "markdown",
      "source": [
        "Prepare the dataset using a custom class based on `torch.utils`. This helps in speeding up the data access during the training process"
      ],
      "metadata": {
        "id": "l0PfohhRez_R"
      }
    },
    {
      "cell_type": "code",
      "source": [
        "class Dataset(torch.utils.data.Dataset):\n",
        "    def __init__(self, encodings, labels):\n",
        "        self.encodings = encodings\n",
        "        self.labels = labels\n",
        "\n",
        "    def __getitem__(self, idx):\n",
        "        item = {key: torch.tensor(val[idx]) for key, val in self.encodings.items()}\n",
        "        item['labels'] = torch.tensor(self.labels[idx])\n",
        "        return item\n",
        "\n",
        "    def __len__(self):\n",
        "        return len(self.labels)\n",
        "\n",
        "train_encodings.pop(\"offset_mapping\") # we don't want to pass this to the model\n",
        "train_dataset = Dataset(train_encodings, train_labels)\n",
        "val_encodings.pop(\"offset_mapping\")\n",
        "val_dataset = Dataset(val_encodings, val_labels)"
      ],
      "metadata": {
        "id": "MWC4DZA-OsZH"
      },
      "execution_count": 19,
      "outputs": []
    },
    {
      "cell_type": "markdown",
      "source": [
        "So far all our efforts have been focused on preparing the data. This involved parsing the XML file, getting list of names and tags, basic text preprocessing, tokenizing and encoding the preprocessed text and tags into numerical representation. While this may appear simple, majority of my time went into this preprocessing. Now the hard part is done, let the magic begin!"
      ],
      "metadata": {
        "id": "TYKRlJvVfTcx"
      }
    },
    {
      "cell_type": "markdown",
      "source": [
        "## **Transformers are all we need**\n",
        "\n",
        "As the name suggests, indeed transformers comes to our rescue here. A deep learning model is initialized using a pretrained [DistilBert](https://huggingface.co/distilbert-base-uncased#model-description) base model. The number of labels have been set to 12, which is the number of name tags available in the dataset."
      ],
      "metadata": {
        "id": "PMMpMQD_gDRx"
      }
    },
    {
      "cell_type": "code",
      "source": [
        "from transformers import DistilBertForTokenClassification\n",
        "model = DistilBertForTokenClassification.from_pretrained('distilbert-base-uncased', num_labels=len(unique_tags))"
      ],
      "metadata": {
        "id": "V_FF3xu2OzpL"
      },
      "execution_count": null,
      "outputs": []
    },
    {
      "cell_type": "code",
      "source": [
        "from torch.utils.data import DataLoader\n",
        "from sklearn.metrics import accuracy_score\n",
        "from transformers import AdamW\n",
        "from tqdm import tqdm"
      ],
      "metadata": {
        "id": "eXYLwz0_O2CE"
      },
      "execution_count": 21,
      "outputs": []
    },
    {
      "cell_type": "markdown",
      "source": [
        "Create the training set loader using the built-in `DataLoader` library. Then set the model to GPU for faster training. The [AdamW](https://pytorch.org/docs/stable/generated/torch.optim.AdamW.html#adamw) optimizer is used here. While there can be multiple ways to tweak around the hyperparameters and configurations, we went with a pretty vanilla model. Only the number of epochs for training was set to 100."
      ],
      "metadata": {
        "id": "-eqyXmy9hfWC"
      }
    },
    {
      "cell_type": "code",
      "source": [
        "train_loader = DataLoader(train_dataset, batch_size=16, shuffle=True)\n",
        "optim = AdamW(model.parameters(), lr=5e-5)"
      ],
      "metadata": {
        "id": "Q3TdreT3Seda"
      },
      "execution_count": 22,
      "outputs": []
    },
    {
      "cell_type": "code",
      "source": [
        "device = torch.device('cuda') if torch.cuda.is_available() else torch.device('cpu')\n",
        "model.to(device)"
      ],
      "metadata": {
        "id": "FX1Ieta7Sud2"
      },
      "execution_count": null,
      "outputs": []
    },
    {
      "cell_type": "code",
      "source": [
        "NUM_EPOCHS = 10"
      ],
      "metadata": {
        "id": "EwMkHAm0U_FT"
      },
      "execution_count": 24,
      "outputs": []
    },
    {
      "cell_type": "markdown",
      "source": [
        "### Train/Fine-tune the model to the task of named person identification.\n",
        "\n",
        "Ideally, this is transfer learning taking place. The training accuracy and loss is shown below for every 10 epochs."
      ],
      "metadata": {
        "id": "QVJ8H86jimKb"
      }
    },
    {
      "cell_type": "code",
      "source": [
        "# put model in training mode\n",
        "model.train()\n",
        "for epoch in tqdm(range(NUM_EPOCHS)):\n",
        "\n",
        "  tr_loss, tr_accuracy = 0, 0\n",
        "  nb_tr_examples, nb_tr_steps = 0, 0\n",
        "  tr_preds, tr_labels = [], []\n",
        "  \n",
        "  for batch in train_loader:\n",
        "    optim.zero_grad()\n",
        "    input_ids = batch['input_ids'].to(device)\n",
        "    attention_mask = batch['attention_mask'].to(device)\n",
        "    labels = batch['labels'].to(device)\n",
        "    outputs = model(input_ids, attention_mask=attention_mask, labels=labels)\n",
        "\n",
        "    # Get the batch loss and the training logit\n",
        "    loss = outputs[0]\n",
        "    tr_logits = outputs[1]\n",
        "    tr_loss += loss.item()\n",
        "    \n",
        "    nb_tr_steps += 1\n",
        "    nb_tr_examples += labels.size(0)\n",
        "        \n",
        "    # compute training accuracy\n",
        "    flattened_targets = labels.view(-1) # shape (batch_size * seq_len,)\n",
        "    active_logits = tr_logits.view(-1, model.num_labels) # shape (batch_size * seq_len, num_labels)\n",
        "    flattened_predictions = torch.argmax(active_logits, axis=1) # shape (batch_size * seq_len,)\n",
        "\n",
        "    # only compute accuracy at active labels\n",
        "    active_accuracy = labels.view(-1) != -100 # shape (batch_size, seq_len)\n",
        "    #active_labels = torch.where(active_accuracy, labels.view(-1), torch.tensor(-100).type_as(labels))\n",
        "\n",
        "    labels = torch.masked_select(flattened_targets, active_accuracy)\n",
        "    predictions = torch.masked_select(flattened_predictions, active_accuracy)\n",
        "\n",
        "    tr_labels.extend(labels)\n",
        "    tr_preds.extend(predictions)\n",
        "\n",
        "    tmp_tr_accuracy = accuracy_score(labels.cpu().numpy(), predictions.cpu().numpy())\n",
        "    tr_accuracy += tmp_tr_accuracy\n",
        "\n",
        "    # backward pass\n",
        "    loss.backward()\n",
        "    optim.step()\n",
        "\n",
        "  if epoch % 10 == 0:\n",
        "    print(f\"\\n Training loss in epoch {epoch + 1}: {tr_loss / nb_tr_steps}\")\n",
        "    print(f\" Training accuracy epoch: {tr_accuracy / nb_tr_steps}\\n\")"
      ],
      "metadata": {
        "colab": {
          "base_uri": "https://localhost:8080/"
        },
        "id": "eGxHEiMMQE93",
        "outputId": "b77f11a3-e94e-4964-ef93-66ec6585b6b5"
      },
      "execution_count": 25,
      "outputs": [
        {
          "output_type": "stream",
          "name": "stderr",
          "text": [
            " 10%|█         | 1/10 [00:10<01:31, 10.21s/it]"
          ]
        },
        {
          "output_type": "stream",
          "name": "stdout",
          "text": [
            "\n",
            " Training loss in epoch 1: 0.5887275546789169\n",
            " Training accuracy epoch: 0.812770226768593\n",
            "\n"
          ]
        },
        {
          "output_type": "stream",
          "name": "stderr",
          "text": [
            "100%|██████████| 10/10 [01:16<00:00,  7.65s/it]\n"
          ]
        }
      ]
    },
    {
      "cell_type": "markdown",
      "source": [
        "#### **Evaluating the model**\n",
        "\n",
        "Now that we've trained our model, we can evaluate its performance on the held-out test set (which is `20%` of the data). Note that here, no gradient updates are performed, the model just outputs its logits. "
      ],
      "metadata": {
        "id": "pKo4r508o7DU"
      }
    },
    {
      "cell_type": "code",
      "source": [
        "def valid(model, testing_loader):\n",
        "    # put model in evaluation mode\n",
        "    model.eval()\n",
        "    \n",
        "    eval_loss, eval_accuracy = 0, 0\n",
        "    nb_eval_examples, nb_eval_steps = 0, 0\n",
        "    eval_preds, eval_labels = [], []\n",
        "    \n",
        "    with torch.no_grad():\n",
        "        for idx, batch in enumerate(testing_loader):\n",
        "            \n",
        "            ids = batch['input_ids'].to(device, dtype = torch.long)\n",
        "            mask = batch['attention_mask'].to(device, dtype = torch.long)\n",
        "            labels = batch['labels'].to(device, dtype = torch.long)\n",
        "            \n",
        "            outputs = model(input_ids=ids, attention_mask=mask, labels=labels)\n",
        "            loss = outputs[0]\n",
        "            eval_logits = outputs[1]\n",
        "            \n",
        "            eval_loss += loss.item()\n",
        "\n",
        "            nb_eval_steps += 1\n",
        "            nb_eval_examples += labels.size(0)\n",
        "              \n",
        "            # compute evaluation accuracy\n",
        "            flattened_targets = labels.view(-1) # shape (batch_size * seq_len,)\n",
        "            active_logits = eval_logits.view(-1, model.num_labels) # shape (batch_size * seq_len, num_labels)\n",
        "            flattened_predictions = torch.argmax(active_logits, axis=1) # shape (batch_size * seq_len,)\n",
        "            \n",
        "            # only compute accuracy at active labels\n",
        "            active_accuracy = labels.view(-1) != -100 # shape (batch_size, seq_len)\n",
        "        \n",
        "            labels = torch.masked_select(flattened_targets, active_accuracy)\n",
        "            predictions = torch.masked_select(flattened_predictions, active_accuracy)\n",
        "            \n",
        "            eval_labels.append(labels)\n",
        "            eval_preds.append(predictions)\n",
        "            \n",
        "            tmp_eval_accuracy = accuracy_score(labels.cpu().numpy(), predictions.cpu().numpy())\n",
        "            eval_accuracy += tmp_eval_accuracy\n",
        "\n",
        "    labels = [['B-' + id2tag[id.item()] for id in item] for item in eval_labels]\n",
        "    predictions = [['B-' + id2tag[id.item()] for id in item] for item in eval_preds]\n",
        "    \n",
        "    eval_loss = eval_loss / nb_eval_steps\n",
        "    eval_accuracy = eval_accuracy / nb_eval_steps\n",
        "    print(f\"Validation Loss: {eval_loss}\")\n",
        "    print(f\"Validation Accuracy: {eval_accuracy}\")\n",
        "\n",
        "    return labels, predictions"
      ],
      "metadata": {
        "id": "3q-UW1bVo_RZ"
      },
      "execution_count": 26,
      "outputs": []
    },
    {
      "cell_type": "code",
      "source": [
        "val_loader = DataLoader(val_dataset, batch_size=1, shuffle=True)\n",
        "labels, predictions = valid(model, val_loader)"
      ],
      "metadata": {
        "colab": {
          "base_uri": "https://localhost:8080/"
        },
        "id": "0bMrXfPupyNo",
        "outputId": "1a6803c3-703d-4893-b158-7fbe62ca941d"
      },
      "execution_count": 27,
      "outputs": [
        {
          "output_type": "stream",
          "name": "stdout",
          "text": [
            "Validation Loss: 0.7518181993103497\n",
            "Validation Accuracy: 0.8495517723497\n"
          ]
        }
      ]
    },
    {
      "cell_type": "markdown",
      "source": [
        "However, the accuracy metric is misleading, as there is class imbalance. Hence, it is important to look at the precision, recall and f1-score of the individual tags. For this, we use the seqeval Python library."
      ],
      "metadata": {
        "id": "4mTuSR43vg_E"
      }
    },
    {
      "cell_type": "code",
      "source": [
        "from seqeval.metrics import classification_report\n",
        "\n",
        "print(classification_report(labels, predictions))"
      ],
      "metadata": {
        "colab": {
          "base_uri": "https://localhost:8080/"
        },
        "id": "4NLQ4U4lsnaR",
        "outputId": "6ca7c474-0460-4d02-e3d7-b55f107ecff2"
      },
      "execution_count": 28,
      "outputs": [
        {
          "output_type": "stream",
          "name": "stdout",
          "text": [
            "                    precision    recall  f1-score   support\n",
            "\n",
            "               And       1.00      1.00      1.00        12\n",
            "      FirstInitial       0.90      0.90      0.90        10\n",
            "         GivenName       0.89      0.91      0.90       461\n",
            "       LastInitial       1.00      1.00      1.00        14\n",
            "     MiddleInitial       0.97      1.00      0.99        72\n",
            "        MiddleName       0.76      0.88      0.81        32\n",
            "          Nickname       0.95      0.83      0.89        24\n",
            "     PrefixMarital       1.00      0.93      0.97        15\n",
            "       PrefixOther       0.91      1.00      0.95        10\n",
            "SuffixGenerational       1.00      1.00      1.00        23\n",
            "       SuffixOther       0.91      1.00      0.95        20\n",
            "           Surname       0.91      0.87      0.89       458\n",
            "\n",
            "         micro avg       0.91      0.91      0.91      1151\n",
            "         macro avg       0.93      0.94      0.94      1151\n",
            "      weighted avg       0.91      0.91      0.91      1151\n",
            "\n"
          ]
        }
      ]
    },
    {
      "cell_type": "markdown",
      "source": [
        "We do notice that for `MiddleName` and `Nickname`, the performance is somewhat on the lower end. This is possible for minority classes. I think this has to do with the nature of the dataset as well. This dataset is mostly based on names of researchers/scholars in U.S.A. It is quite possible that such datasets are predominantly skewed towards certain ethnicities while missing out others. For instance, lets say, if the proportion of Hispanic names are low in the dataset, it is highly likely that the model will perform poorly in identifying named entities of Hispanic names.\n",
        "\n",
        "That is to say that model hasn't been fine-tuned well enough on representative sample of names. So more data can be beneficial. Continual learning is the way to go. Also, better preprocessing of text may lead to better performance."
      ],
      "metadata": {
        "id": "gO7TwJ-PjzLw"
      }
    },
    {
      "cell_type": "markdown",
      "source": [
        "### Save the model\n",
        "\n",
        "Saving this model might be a good idea after so much work in building it. I gave a custom location to save it in my Google Drive. Feel free to give your own custom location."
      ],
      "metadata": {
        "id": "ZSjumXMiPTtp"
      }
    },
    {
      "cell_type": "code",
      "source": [
        "model_location = \"NERModel1\"\n",
        "\n",
        "if not os.path.exists(sys_path + model_location):\n",
        "    os.makedirs(sys_path + model_location)\n",
        "\n",
        "# save vocabulary of the tokenizer\n",
        "tokenizer.save_vocabulary(sys_path + model_location)\n",
        "# save the model weights and its configuration file\n",
        "model.save_pretrained(sys_path + model_location)\n",
        "print('All files saved')"
      ],
      "metadata": {
        "colab": {
          "base_uri": "https://localhost:8080/"
        },
        "id": "RimuvgDpPW1Y",
        "outputId": "ec3f9396-e637-40b9-a7c9-eea5cff458dd"
      },
      "execution_count": 29,
      "outputs": [
        {
          "output_type": "stream",
          "name": "stdout",
          "text": [
            "All files saved\n"
          ]
        }
      ]
    },
    {
      "cell_type": "markdown",
      "source": [
        "#### **Inference**\n",
        "\n",
        "The fun part is when we can quickly test the model on new, unseen sentences. \n",
        "Here, I input my name along with the nickname and ask the model to predict it. \n"
      ],
      "metadata": {
        "id": "NIJ8rEXv4IYt"
      }
    },
    {
      "cell_type": "code",
      "source": [
        "sentence = \"Subhodip 'Leo' Biswas\"\n",
        "\n",
        "inputs = tokenizer(sentence.lower().split(),\n",
        "                   is_split_into_words=True,\n",
        "                   return_offsets_mapping=True,\n",
        "                   padding=True,\n",
        "                   truncation=True,\n",
        "                   return_tensors=\"pt\")\n",
        "\n",
        "# move to gpu\n",
        "ids = inputs[\"input_ids\"].to(device)\n",
        "mask = inputs[\"attention_mask\"].to(device)\n",
        "# forward pass\n",
        "outputs = model(ids, attention_mask=mask)\n",
        "logits = outputs[0]\n",
        "\n",
        "active_logits = logits.view(-1, model.num_labels) # shape (batch_size * seq_len, num_labels)\n",
        "flattened_predictions = torch.argmax(active_logits, axis=1) # shape (batch_size*seq_len,) - predictions at the token level\n",
        "\n",
        "tokens = tokenizer.convert_ids_to_tokens(ids.squeeze().tolist())\n",
        "token_predictions = [id2tag[i] for i in flattened_predictions.cpu().numpy()]\n",
        "wp_preds = list(zip(tokens, token_predictions)) # list of tuples. Each tuple = (wordpiece, prediction)\n",
        "\n",
        "prediction = []\n",
        "for token_pred, mapping in zip(wp_preds, inputs[\"offset_mapping\"].squeeze().tolist()):\n",
        "  #only predictions on first word pieces are important\n",
        "  if mapping[0] == 0 and mapping[1] != 0:\n",
        "    prediction.append(token_pred[1])\n",
        "  else:\n",
        "    continue\n",
        "\n",
        "print(sentence.split())\n",
        "print(prediction)"
      ],
      "metadata": {
        "id": "EbW9XpKrrcGE",
        "colab": {
          "base_uri": "https://localhost:8080/"
        },
        "outputId": "6af531a2-bb0e-43be-c0cc-88e79388a2ea"
      },
      "execution_count": 30,
      "outputs": [
        {
          "output_type": "stream",
          "name": "stdout",
          "text": [
            "['Subhodip', \"'Leo'\", 'Biswas']\n",
            "['GivenName', 'Nickname', 'Surname']\n"
          ]
        }
      ]
    },
    {
      "cell_type": "markdown",
      "source": [
        "# **Yup, identifies it pretty well.**\n",
        "\n",
        "![that_s_all_folks_space_jam_by_toon1990_dc6kiet-fullview.jpg](data:image/jpeg;base64,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)"
      ],
      "metadata": {
        "id": "jDUcyzcClzJl"
      }
    }
  ]
}